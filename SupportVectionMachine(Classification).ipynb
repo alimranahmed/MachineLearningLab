{
  "nbformat": 4,
  "nbformat_minor": 0,
  "metadata": {
    "colab": {
      "provenance": [],
      "authorship_tag": "ABX9TyNsDPTiBh8LcBo9CzKI8pHy",
      "include_colab_link": true
    },
    "kernelspec": {
      "name": "python3",
      "display_name": "Python 3"
    },
    "language_info": {
      "name": "python"
    }
  },
  "cells": [
    {
      "cell_type": "markdown",
      "metadata": {
        "id": "view-in-github",
        "colab_type": "text"
      },
      "source": [
        "<a href=\"https://colab.research.google.com/github/alimranahmed/MachineLearningLab/blob/main/SupportVectionMachine(Classification).ipynb\" target=\"_parent\"><img src=\"https://colab.research.google.com/assets/colab-badge.svg\" alt=\"Open In Colab\"/></a>"
      ]
    },
    {
      "cell_type": "code",
      "execution_count": 15,
      "metadata": {
        "colab": {
          "base_uri": "https://localhost:8080/"
        },
        "id": "AoVbDN8TeoAh",
        "outputId": "569be3b4-b8eb-478c-a6c0-b85ab517651d"
      },
      "outputs": [
        {
          "output_type": "stream",
          "name": "stdout",
          "text": [
            "[[43  0  0]\n",
            " [ 0 19  0]\n",
            " [ 0  0 38]]\n",
            "              precision    recall  f1-score   support\n",
            "\n",
            "      Adelie       1.00      1.00      1.00        43\n",
            "   Chinstrap       1.00      1.00      1.00        19\n",
            "      Gentoo       1.00      1.00      1.00        38\n",
            "\n",
            "    accuracy                           1.00       100\n",
            "   macro avg       1.00      1.00      1.00       100\n",
            "weighted avg       1.00      1.00      1.00       100\n",
            "\n"
          ]
        },
        {
          "output_type": "execute_result",
          "data": {
            "text/plain": [
              "array(['Adelie'], dtype=object)"
            ]
          },
          "metadata": {},
          "execution_count": 15
        }
      ],
      "source": [
        "import pandas as pd\n",
        "from sklearn.model_selection import train_test_split\n",
        "from sklearn.preprocessing import StandardScaler\n",
        "from sklearn.svm import SVC\n",
        "from sklearn.metrics import classification_report, confusion_matrix\n",
        "\n",
        "# Import dataset\n",
        "df = pd.read_csv(\"https://raw.githubusercontent.com/mwaskom/seaborn-data/master/penguins.csv\")\n",
        "# df.head()\n",
        "\n",
        "# Drop rows containing missing values\n",
        "df.dropna(axis = 0, how = 'any', thresh = None, subset = None, inplace = True)\n",
        "\n",
        "# Convert non-numeric data using one hot encoding\n",
        "df = pd.get_dummies(df, columns=['sex', 'island'])\n",
        "\n",
        "# Standardixe the independent variable using Standard Scalar\n",
        "scaler = StandardScaler();\n",
        "scaler.fit(df.drop('species', axis = 1))\n",
        "scaler_df = scaler.transform(df.drop('species', axis = 1))\n",
        "\n",
        "\n",
        "# assing X and y \n",
        "X = scaler_df\n",
        "y = df['species']\n",
        "\n",
        "\n",
        "# Split data into test/train set 70/30 and shuffle\n",
        "\n",
        "X_train, X_test, y_train, y_test = train_test_split(X, y, test_size = 0.3, shuffle= True)\n",
        "\n",
        "# Assign the algorithm(Support Vector Machine(Classification))\n",
        "\n",
        "model = SVC()\n",
        "\n",
        "\n",
        "# Link the Algorithm for a X and y\n",
        "model.fit(X_train, y_train)\n",
        "\n",
        "# Run algo for test data to make predictions\n",
        "model_test = model.predict(X_test)\n",
        "\n",
        "# Evaluate prediction\n",
        "print(confusion_matrix(y_test, model_test))\n",
        "print(classification_report(y_test, model_test))\n",
        "\n",
        "penguin = [\n",
        "    39, # bill_length_mm\n",
        "    18.5, # bill_depth_mm\n",
        "    180, # flipper_length_mm\n",
        "    3750, # body_mass_g\n",
        "    0, # island_Biscoe\n",
        "    0, # island_Dream\n",
        "    1, # island_Torgersen\n",
        "    1, # sex_Male\n",
        "    0, # sex_Female\n",
        "]\n",
        "\n",
        "model.predict([penguin])"
      ]
    }
  ]
}